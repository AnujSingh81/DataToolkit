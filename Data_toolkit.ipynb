{
  "nbformat": 4,
  "nbformat_minor": 0,
  "metadata": {
    "colab": {
      "provenance": []
    },
    "kernelspec": {
      "name": "python3",
      "display_name": "Python 3"
    },
    "language_info": {
      "name": "python"
    }
  },
  "cells": [
    {
      "cell_type": "markdown",
      "source": [
        "## 1.A What is NumPy, and why is it widely used in Python?\n",
        "  ->NumPy is a powerful Python library used for numerical computing. It provides support for large, multi-dimensional arrays and matrices, along with a collection of mathematical functions to operate on them efficiently. Widely used in data science and machine learning, NumPy enables fast, vectorized computations and seamless integration with other libraries."
      ],
      "metadata": {
        "id": "iwH7MttP62Kg"
      }
    },
    {
      "cell_type": "markdown",
      "source": [
        "##2.  How does broadcasting work in NumPy?\n",
        "  ->Broadcasting in NumPy allows operations between arrays of different shapes by automatically expanding their dimensions to match. It avoids explicit replication, saving memory and computation time. When shapes are compatible, NumPy stretches the smaller array across the larger one, enabling element-wise operations without looping. It’s efficient and simplifies code."
      ],
      "metadata": {
        "id": "e7Lt6JU47OEz"
      }
    },
    {
      "cell_type": "markdown",
      "source": [
        "##3.  What is a Pandas DataFrame?\n",
        "  ->A Pandas DataFrame is a two-dimensional, tabular data structure in Python, similar to a spreadsheet or SQL table. It consists of rows and columns, where each column can hold data of different types. DataFrames make data manipulation, analysis, and visualization easy with powerful, intuitive functions and indexing capabilities."
      ],
      "metadata": {
        "id": "xfRU2Xk57b_q"
      }
    },
    {
      "cell_type": "markdown",
      "source": [
        "## 4.Explain the use of the groupby() method in Pandas?\n",
        "  ->The groupby() method in Pandas is used to split data into groups based on one or more keys (columns). It enables performing operations like aggregation, transformation, or filtering on each group independently. This is useful for analyzing patterns, summarizing data, and gaining insights within grouped subsets of a DataFrame."
      ],
      "metadata": {
        "id": "rT46oAfY7mvc"
      }
    },
    {
      "cell_type": "markdown",
      "source": [
        "## 5.Why is Seaborn preferred for statistical visualizations?\n",
        "  ->Seaborn is preferred for statistical visualizations because it offers high-level, easy-to-use functions for creating informative and attractive plots. Built on Matplotlib, it simplifies complex visualizations like heatmaps, violin plots, and regression plots. Seaborn integrates well with Pandas DataFrames and automatically handles statistical estimation, making data exploration and analysis more efficient."
      ],
      "metadata": {
        "id": "9fZAdkrm7yoR"
      }
    },
    {
      "cell_type": "markdown",
      "source": [
        "##6. What are the differences between NumPy arrays and Python lists?\n",
        "  ->What are the differences between NumPy arrays and Python lists\n",
        "\n",
        "\n",
        "ChatGPT said:\n",
        "Here are the key differences between NumPy arrays and Python lists:\n",
        "\n",
        "Performance: NumPy arrays are faster and more memory-efficient than Python lists.\n",
        "\n",
        "Data Type: NumPy arrays store elements of the same data type, while Python lists can store mixed types.\n",
        "\n",
        "Functionality: NumPy supports vectorized operations and advanced mathematical functions; lists do not.\n",
        "\n",
        "Memory: NumPy arrays use less memory due to compact data storage.\n",
        "\n",
        "Broadcasting: NumPy supports broadcasting for operations on different-sized arrays; Python lists require manual looping."
      ],
      "metadata": {
        "id": "oPgKK6Mu7-lt"
      }
    },
    {
      "cell_type": "markdown",
      "source": [
        "##7  What is a heatmap, and when should it be used?\n",
        "  ->A heatmap is a data visualization technique that uses color to represent values in a matrix or 2D data. Darker or lighter shades indicate higher or lower values, making patterns, correlations, and outliers easy to spot.\n",
        "\n",
        "Use it when you want to visualize relationships, trends, or intensity across variables—commonly used in correlation analysis or performance metrics."
      ],
      "metadata": {
        "id": "Ar3HsV3q8MZa"
      }
    },
    {
      "cell_type": "markdown",
      "source": [
        "##8. What does the term “vectorized operation” mean in NumPy?\n",
        "  ->In NumPy, a vectorized operation refers to performing operations on entire arrays without using explicit loops. It means applying a function or arithmetic operation element-wise to an array efficiently using optimized C-based implementations. This leads to faster execution, cleaner code, and better performance compared to traditional looping in Python."
      ],
      "metadata": {
        "id": "fLvOkulj8Wyn"
      }
    },
    {
      "cell_type": "markdown",
      "source": [
        "##9.  How does Matplotlib differ from Plotly?\n",
        "  ->Matplotlib and Plotly are both Python libraries for data visualization, but they differ in several ways:\n",
        "\n",
        "Matplotlib:\n",
        "\n",
        "Static plots (e.g., line, bar, scatter)\n",
        "\n",
        "Highly customizable\n",
        "\n",
        "Ideal for publication-quality graphics\n",
        "\n",
        "Requires more code for interactivity\n",
        "\n",
        "Plotly:\n",
        "\n",
        "Interactive, web-based plots (e.g., zoom, hover, tooltips)\n",
        "\n",
        "Easier interactivity with less code\n",
        "\n",
        "Better suited for dashboards and web apps\n",
        "\n",
        "Slightly heavier and depends on JavaScript backend\n",
        "\n",
        "In short: Matplotlib is great for static, precise plots; Plotly shines for interactive visualizations."
      ],
      "metadata": {
        "id": "QEcxPSri8f4a"
      }
    },
    {
      "cell_type": "markdown",
      "source": [
        "## 10.What is the significance of hierarchical indexing in Pandas?\n",
        "  ->Hierarchical indexing (or MultiIndexing) in Pandas allows multiple index levels on rows or columns. It enables working with higher-dimensional data in a 2D DataFrame, making data organization, grouping, and slicing more flexible. This is especially useful for representing grouped or time-series data, allowing complex data relationships to be modeled efficiently."
      ],
      "metadata": {
        "id": "zqHlTBuC8t8s"
      }
    },
    {
      "cell_type": "markdown",
      "source": [
        "## 11.What is the role of Seaborn’s pairplot() function?\n",
        "  ->Seaborn's pairplot() function is used to create pairwise relationships between multiple variables in a dataset. It plots scatterplots for each pair of variables along with histograms (or KDE plots) on the diagonal. This helps in visualizing correlations, trends, and distributions between variables, making it useful for exploratory data analysis."
      ],
      "metadata": {
        "id": "y2iBBrJu88DL"
      }
    },
    {
      "cell_type": "markdown",
      "source": [
        "## 12. What is the purpose of the describe() function in Pandas?\n",
        "  ->The describe() function in Pandas provides a summary of statistical measures for numerical columns in a DataFrame. It calculates metrics such as count, mean, standard deviation, minimum, maximum, and percentiles (25th, 50th, 75th). This function is useful for quickly understanding the distribution and characteristics of the data."
      ],
      "metadata": {
        "id": "uj97eK8B9IJE"
      }
    },
    {
      "cell_type": "markdown",
      "source": [
        "## 13. Why is handling missing data important in Pandas?\n",
        "  ->Handling missing data is crucial in Pandas because incomplete data can lead to incorrect analyses, biased results, and errors in machine learning models. Missing values can skew statistics, affect model training, or prevent operations. Pandas provides various tools (e.g., fillna(), dropna()) to handle missing data by either imputing or removing it, ensuring data integrity and accuracy."
      ],
      "metadata": {
        "id": "x_0wZ_pD9QRi"
      }
    },
    {
      "cell_type": "markdown",
      "source": [
        "## 14.What are the benefits of using Plotly for data visualization?\n",
        "  ->Using Plotly for data visualization offers several benefits:\n",
        "\n",
        "Interactivity: Plotly creates interactive plots with features like zoom, hover, and dynamic tooltips, enhancing user engagement.\n",
        "\n",
        "Ease of Use: It provides an intuitive, high-level API for creating complex visualizations with minimal code.\n",
        "\n",
        "Web Integration: Plotly plots can be embedded in web apps, dashboards, and notebooks.\n",
        "\n",
        "Customization: It allows extensive customization for both aesthetics and functionality.\n",
        "\n",
        "Support for Multiple Plot Types: Supports a wide range of chart types like 3D, geographic, and statistical plots.\n",
        "\n",
        "Sharing: Easily share and publish interactive visualizations online."
      ],
      "metadata": {
        "id": "mR2-J3on9cp_"
      }
    },
    {
      "cell_type": "markdown",
      "source": [
        "## 15. How does NumPy handle multidimensional arrays?\n",
        "  ->NumPy handles multidimensional arrays through its ndarray object, which allows for arrays with more than one dimension (e.g., 2D matrices, 3D tensors). You can create, manipulate, and perform operations on these arrays efficiently. NumPy provides built-in methods for reshaping, slicing, indexing, and performing vectorized operations across dimensions, making it easy to work with complex data structures. The data is stored in a contiguous block of memory, which ensures fast access and efficient computation."
      ],
      "metadata": {
        "id": "gS8av0_59sU6"
      }
    },
    {
      "cell_type": "markdown",
      "source": [
        "## 16.What is the role of Bokeh in data visualization?\n",
        "  ->Bokeh is a Python library used for creating interactive, web-ready visualizations. Its role in data visualization includes:\n",
        "\n",
        "Interactivity: Bokeh allows the creation of interactive plots, such as zoom, pan, and hover, enhancing data exploration.\n",
        "\n",
        "Web Integration: It generates visualizations that can be easily embedded into web applications or dashboards.\n",
        "\n",
        "Real-Time Data: Bokeh supports live streaming and dynamic updates, making it ideal for visualizing real-time data.\n",
        "\n",
        "High-Quality Visuals: It offers a variety of plots (scatter, line, bar, etc.) with detailed customization options."
      ],
      "metadata": {
        "id": "HL8ngvl293ce"
      }
    },
    {
      "cell_type": "markdown",
      "source": [
        "## 17. Explain the difference between apply() and map() in Pandas?\n",
        "  ->In Pandas, both apply() and map() are used to apply functions to data, but they differ in their usage and flexibility:\n",
        "\n",
        "apply():\n",
        "\n",
        "Can be used on both Series and DataFrames.\n",
        "\n",
        "Allows applying a function along either axis (rows or columns) of a DataFrame.\n",
        "\n",
        "More flexible, as it can handle complex functions and return more complex results (e.g., DataFrames, Series).\n",
        "\n",
        "Example: df.apply(func, axis=1) applies a function to each row of a DataFrame.\n",
        "\n",
        "map():\n",
        "\n",
        "Only used on Series.\n",
        "\n",
        "Primarily used for element-wise transformations, such as replacing or mapping values to another set of values.\n",
        "\n",
        "Typically returns a Series and is simpler for applying functions or dictionaries to Series elements.\n",
        "\n",
        "Example: df['column'].map(func) applies the function to each element of the specified column."
      ],
      "metadata": {
        "id": "_EVKM9Kk-A8r"
      }
    },
    {
      "cell_type": "markdown",
      "source": [
        "## 18.What are some advanced features of NumPy?\n",
        "  ->NumPy offers several advanced features that enhance its power and flexibility for numerical computing:\n",
        "\n",
        "Broadcasting: Allows operations on arrays of different shapes by automatically adjusting their dimensions to match, enabling efficient element-wise operations.\n",
        "\n",
        "Vectorized Operations: Eliminates the need for explicit loops, enabling fast, element-wise operations across arrays using optimized C implementations.\n",
        "\n",
        "Advanced Indexing: Supports boolean indexing, fancy indexing, and slicing, allowing complex operations like selecting, modifying, and reshaping data.\n",
        "\n",
        "Linear Algebra Functions: Provides a wide range of functions for matrix operations, including matrix multiplication, eigenvalues, determinants, and more.\n",
        "\n",
        "Random Number Generation: Includes a comprehensive random module for generating random numbers, distributions, and random sampling, useful in simulations and statistical modeling.\n",
        "\n",
        "Fourier Transforms: NumPy provides functions like fft to compute fast Fourier transforms, crucial in signal processing and analysis.\n",
        "\n",
        "Polynomials: Offers support for working with polynomial objects and functions, simplifying operations like evaluation, fitting, and integration.\n",
        "\n",
        "Masked Arrays: Allows handling of missing or invalid data by creating arrays that can mask specific values for efficient processing.\n",
        "\n",
        "Performance Optimization: NumPy leverages multi-threading and parallel computing to optimize performance for large-scale computations."
      ],
      "metadata": {
        "id": "MxbMIlZQ-T5e"
      }
    },
    {
      "cell_type": "markdown",
      "source": [
        "## 19. How does Pandas simplify time series analysis?\n",
        "  ->Pandas simplifies time series analysis through several key features:\n",
        "\n",
        "Datetime Indexing: Pandas supports datetime objects as indices, allowing for easy sorting, resampling, and time-based indexing.\n",
        "\n",
        "Date Range Generation: Functions like pd.date_range() generate date ranges for easy time-based slicing and indexing of data.\n",
        "\n",
        "Resampling: With the resample() function, you can easily change the frequency of your time series data, such as converting daily data to monthly or yearly averages.\n",
        "\n",
        "Time-based Grouping: Pandas allows for grouping by time intervals (e.g., hourly, daily, monthly) to apply aggregation functions like sum, mean, or median.\n",
        "\n",
        "Time Shifting: Functions like shift() and tshift() allow shifting data forward or backward in time, useful for calculating differences or lags.\n",
        "\n",
        "Rolling Window Calculations: The rolling() function enables applying statistical operations (like mean, sum, or variance) over a rolling window of time periods.\n",
        "\n",
        "Handling Missing Data: Pandas provides tools like fillna() to handle missing time series data by forward/backward filling or interpolation.\n",
        "\n",
        "Time Zone Handling: Supports converting between time zones, which is critical for global datasets or datasets spanning multiple regions."
      ],
      "metadata": {
        "id": "Us4Ev9Cm-f3i"
      }
    },
    {
      "cell_type": "markdown",
      "source": [
        "## 20. What is the role of a pivot table in Pandas?\n",
        "  ->Key Roles of a Pivot Table in Pandas:\n",
        "Data Aggregation: It allows you to aggregate data (e.g., sum, mean, count) based on specific categories.\n",
        "\n",
        "Data Reshaping: It reorganizes data, enabling multi-dimensional analysis by pivoting rows into columns.\n",
        "\n",
        "Simplified Analysis: It helps in quickly summarizing large datasets, revealing patterns or trends.\n",
        "\n",
        "Customizable: You can specify multiple levels of rows and columns for more complex summaries.\n",
        "\n",
        "Example:"
      ],
      "metadata": {
        "id": "ImIHhiZg-rAD"
      }
    },
    {
      "cell_type": "markdown",
      "source": [
        "## 21.Why is NumPy’s array slicing faster than Python’s list slicing?\n",
        "  ->NumPy's array slicing is faster than Python's list slicing due to several key reasons:\n",
        "\n",
        "Contiguous Memory Storage: NumPy arrays are stored in contiguous memory blocks, which allows for faster access and manipulation of elements. In contrast, Python lists are more flexible but are stored as arrays of pointers to objects, leading to slower access times.\n",
        "\n",
        "Vectorized Operations: NumPy leverages optimized, low-level C and Fortran code for operations like slicing. These operations are highly efficient, whereas Python’s list slicing involves iterating over the list in pure Python, which is slower.\n",
        "\n",
        "No Data Copying: In NumPy, slicing often returns a view (not a copy) of the original array, which means that no extra memory is allocated for the sliced array, making it more memory-efficient and faster. Python lists, on the other hand, create new lists when sliced, which incurs additional overhead.\n",
        "\n",
        "Optimized for Numeric Data: NumPy is designed specifically for numeric data and uses highly optimized algorithms and memory layouts for such operations, whereas Python lists are more general-purpose."
      ],
      "metadata": {
        "id": "7G71Wc2a-33J"
      }
    },
    {
      "cell_type": "markdown",
      "source": [
        "## 22. What are some common use cases for Seaborn?\n",
        "  ->Seaborn is a powerful library for statistical data visualization in Python, and it's commonly used in the following scenarios:\n",
        "\n",
        "Exploratory Data Analysis (EDA): Seaborn helps in quickly visualizing relationships, distributions, and patterns in data. It simplifies the creation of various plots like histograms, scatter plots, and pair plots to explore data.\n",
        "\n",
        "Correlation Analysis: Seaborn’s heatmaps are widely used to visualize correlations between numerical variables, helping in identifying trends and relationships.\n",
        "\n",
        "Distribution Plots: Seaborn provides easy-to-use functions like distplot() and kdeplot() to visualize the distribution of data, helping to understand data spread, skewness, and outliers.\n",
        "\n",
        "Categorical Data Visualization: Seaborn excels in visualizing categorical data using plots like box plots, violin plots, and bar plots, making it easy to compare distributions across categories.\n",
        "\n",
        "Regression Plots: The regplot() and lmplot() functions in Seaborn are often used for visualizing linear relationships between variables, along with regression lines and confidence intervals.\n",
        "\n",
        "Facet Grids: Seaborn allows you to create multi-panel plots (using FacetGrid), which is helpful when analyzing the relationship between multiple variables across different subsets of the data.\n",
        "\n",
        "Time Series Visualization: Seaborn works well for visualizing time series data and identifying trends, seasonal patterns, and other temporal relationships."
      ],
      "metadata": {
        "id": "-AHazY0c_GU_"
      }
    },
    {
      "cell_type": "code",
      "execution_count": 1,
      "metadata": {
        "id": "biTuWKJN6nfL",
        "colab": {
          "base_uri": "https://localhost:8080/"
        },
        "outputId": "66e76bd5-b635-42d1-9046-0495789db1c0"
      },
      "outputs": [
        {
          "output_type": "stream",
          "name": "stdout",
          "text": [
            "[ 6 15 24]\n"
          ]
        }
      ],
      "source": [
        "# 1. How do you create a 2D NumPy array and calculate the sum of each row?\n",
        "import numpy as np\n",
        "\n",
        "# Create a 2D NumPy array\n",
        "array_2d = np.array([[1, 2, 3], [4, 5, 6], [7, 8, 9]])\n",
        "myvar = np.sum(array_2d,axis=1)\n",
        "print(myvar)"
      ]
    },
    {
      "cell_type": "code",
      "source": [
        "# 2.Write a Pandas script to find the mean of a specific column in a DataFrame?\n",
        "import pandas as pd\n",
        "\n",
        "# Sample DataFrame\n",
        "data = {\n",
        "    'Name': ['Alice', 'Bob', 'Charlie'],\n",
        "    'Age': [25, 30, 35],\n",
        "    'Salary': [50000, 60000, 70000]\n",
        "}\n",
        "\n",
        "DataFrameA = pd.DataFrame(data)\n",
        "\n",
        "# Calculate mean of a specific column (e.g., 'Salary')\n",
        "mean_salary = DataFrameA['Salary'].mean()\n",
        "\n",
        "print(\"Mean Salary:\", mean_salary)"
      ],
      "metadata": {
        "colab": {
          "base_uri": "https://localhost:8080/"
        },
        "id": "kinHsiGDBUpS",
        "outputId": "d4f641d3-4777-49e9-9ebb-988e6e03858e"
      },
      "execution_count": 2,
      "outputs": [
        {
          "output_type": "stream",
          "name": "stdout",
          "text": [
            "Mean Salary: 60000.0\n"
          ]
        }
      ]
    },
    {
      "cell_type": "code",
      "source": [
        "#3.Create a scatter plot using Matplotlib?\n",
        "import matplotlib.pyplot as plt\n",
        "\n",
        "# Sample data\n",
        "x = [1, 2, 3, 4, 5]\n",
        "y = [2, 4, 1, 8, 7]\n",
        "\n",
        "# Create the scatter plot\n",
        "plt.scatter(x, y, color='blue', marker='o')\n",
        "\n",
        "# Add titles and labels\n",
        "plt.title('Simple Scatter Plot')\n",
        "plt.xlabel('X Axis')\n",
        "plt.ylabel('Y Axis')\n",
        "\n",
        "# Show the plot\n",
        "plt.show()\n"
      ],
      "metadata": {
        "colab": {
          "base_uri": "https://localhost:8080/",
          "height": 472
        },
        "id": "T9KklIBPBx1H",
        "outputId": "39a80526-532c-4cc2-b1e3-341e07586972"
      },
      "execution_count": 3,
      "outputs": [
        {
          "output_type": "display_data",
          "data": {
            "text/plain": [
              "<Figure size 640x480 with 1 Axes>"
            ],
            "image/png": "[encoded data removed]"
          },
          "metadata": {}
        }
      ]
    },
    {
      "cell_type": "code",
      "source": [
        "#4. How do you calculate the correlation matrix using Seaborn and visualize it with a heatmap?\n",
        "import pandas as pd\n",
        "import seaborn as sns\n",
        "import matplotlib.pyplot as plt\n",
        "\n",
        "# Sample DataFrame\n",
        "data = {\n",
        "    'Math': [90, 80, 70, 60, 50],\n",
        "    'Science': [88, 76, 70, 65, 55],\n",
        "    'English': [75, 85, 78, 60, 65]\n",
        "}\n",
        "\n",
        "df = pd.DataFrame(data)\n",
        "\n",
        "# Step 1: Calculate correlation matrix\n",
        "corr_matrix = df.corr()\n",
        "\n",
        "# Step 2: Visualize with a heatmap\n",
        "sns.heatmap(corr_matrix, annot=True, cmap='coolwarm', fmt=\".2f\")\n",
        "\n",
        "# Step 3: Show plot\n",
        "plt.title('Correlation Matrix Heatmap')\n",
        "plt.show()\n"
      ],
      "metadata": {
        "colab": {
          "base_uri": "https://localhost:8080/",
          "height": 452
        },
        "id": "aCBjPDEvCEoe",
        "outputId": "4c7ecd9c-7b8f-4f7b-e5c1-ff59090d7be9"
      },
      "execution_count": 4,
      "outputs": [
        {
          "output_type": "display_data",
          "data": {
            "text/plain": [
              "<Figure size 640x480 with 2 Axes>"
            ],
            "image/png": "[encoded data removed]"
          },
          "metadata": {}
        }
      ]
    },
    {
      "cell_type": "code",
      "source": [
        "# 5.Generate a bar plot using Plotly?\n",
        "import plotly.express as px\n",
        "import pandas as pd\n",
        "\n",
        "# Sample data\n",
        "data = {\n",
        "    'Fruits': ['Apples', 'Bananas', 'Cherries', 'Dates'],\n",
        "    'Quantity': [10, 15, 7, 12]\n",
        "}\n",
        "\n",
        "df = pd.DataFrame(data)\n",
        "\n",
        "# Create bar plot\n",
        "fig = px.bar(df, x='Fruits', y='Quantity', title='Fruit Quantity Bar Plot')\n",
        "\n",
        "# Show plot\n",
        "fig.show()\n"
      ],
      "metadata": {
        "colab": {
          "base_uri": "https://localhost:8080/",
          "height": 542
        },
        "id": "adU6bKtzCkBQ",
        "outputId": "063de72b-5ef7-46ed-d0ab-c78622be1454"
      },
      "execution_count": 5,
      "outputs": [
        {
          "output_type": "display_data",
          "data": {
            "text/html": [
              "<html>\n",
              "<head><meta charset=\"utf-8\" /></head>\n",
              "<body>\n",
              "    <div>            <script src=\"https://cdnjs.cloudflare.com/ajax/libs/mathjax/2.7.5/MathJax.js?config=TeX-AMS-MML_SVG\"></script><script type=\"text/javascript\">if (window.MathJax && window.MathJax.Hub && window.MathJax.Hub.Config) {window.MathJax.Hub.Config({SVG: {font: \"STIX-Web\"}});}</script>                <script type=\"text/javascript\">window.PlotlyConfig = {MathJaxConfig: 'local'};</script>\n",
              "        <script charset=\"utf-8\" src=\"https://cdn.plot.ly/plotly-2.35.2.min.js\"></script>                <div id=\"d4c75d14-5b34-4269-aa24-24a6cbb5cd3d\" class=\"plotly-graph-div\" style=\"height:525px; width:100%;\"></div>            <script type=\"text/javascript\">                                    window.PLOTLYENV=window.PLOTLYENV || {};                                    if (document.getElementById(\"d4c75d14-5b34-4269-aa24-24a6cbb5cd3d\")) {                    Plotly.newPlot(                        \"d4c75d14-5b34-4269-aa24-24a6cbb5cd3d\",                        [{\"alignmentgroup\":\"True\",\"hovertemplate\":\"Fruits=%{x}\\u003cbr\\u003eQuantity=%{y}\\u003cextra\\u003e\\u003c\\u002fextra\\u003e\",\"legendgroup\":\"\",\"marker\":{\"color\":\"#636efa\",\"pattern\":{\"shape\":\"\"}},\"name\":\"\",\"offsetgroup\":\"\",\"orientation\":\"v\",\"showlegend\":false,\"textposition\":\"auto\",\"x\":[\"Apples\",\"Bananas\",\"Cherries\",\"Dates\"],\"xaxis\":\"x\",\"y\":[10,15,7,12],\"yaxis\":\"y\",\"type\":\"bar\"}],                        {\"template\":{\"data\":{\"histogram2dcontour\":[{\"type\":\"histogram2dcontour\",\"colorbar\":{\"outlinewidth\":0,\"ticks\":\"\"},\"colorscale\":[[0.0,\"#0d0887\"],[0.1111111111111111,\"#46039f\"],[0.2222222222222222,\"#7201a8\"],[0.3333333333333333,\"#9c179e\"],[0.4444444444444444,\"#bd3786\"],[0.5555555555555556,\"#d8576b\"],[0.6666666666666666,\"#ed7953\"],[0.7777777777777778,\"#fb9f3a\"],[0.8888888888888888,\"#fdca26\"],[1.0,\"#f0f921\"]]}],\"choropleth\":[{\"type\":\"choropleth\",\"colorbar\":{\"outlinewidth\":0,\"ticks\":\"\"}}],\"histogram2d\":[{\"type\":\"histogram2d\",\"colorbar\":{\"outlinewidth\":0,\"ticks\":\"\"},\"colorscale\":[[0.0,\"#0d0887\"],[0.1111111111111111,\"#46039f\"],[0.2222222222222222,\"#7201a8\"],[0.3333333333333333,\"#9c179e\"],[0.4444444444444444,\"#bd3786\"],[0.5555555555555556,\"#d8576b\"],[0.6666666666666666,\"#ed7953\"],[0.7777777777777778,\"#fb9f3a\"],[0.8888888888888888,\"#fdca26\"],[1.0,\"#f0f921\"]]}],\"heatmap\":[{\"type\":\"heatmap\",\"colorbar\":{\"outlinewidth\":0,\"ticks\":\"\"},\"colorscale\":[[0.0,\"#0d0887\"],[0.1111111111111111,\"#46039f\"],[0.2222222222222222,\"#7201a8\"],[0.3333333333333333,\"#9c179e\"],[0.4444444444444444,\"#bd3786\"],[0.5555555555555556,\"#d8576b\"],[0.6666666666666666,\"#ed7953\"],[0.7777777777777778,\"#fb9f3a\"],[0.8888888888888888,\"#fdca26\"],[1.0,\"#f0f921\"]]}],\"heatmapgl\":[{\"type\":\"heatmapgl\",\"colorbar\":{\"outlinewidth\":0,\"ticks\":\"\"},\"colorscale\":[[0.0,\"#0d0887\"],[0.1111111111111111,\"#46039f\"],[0.2222222222222222,\"#7201a8\"],[0.3333333333333333,\"#9c179e\"],[0.4444444444444444,\"#bd3786\"],[0.5555555555555556,\"#d8576b\"],[0.6666666666666666,\"#ed7953\"],[0.7777777777777778,\"#fb9f3a\"],[0.8888888888888888,\"#fdca26\"],[1.0,\"#f0f921\"]]}],\"contourcarpet\":[{\"type\":\"contourcarpet\",\"colorbar\":{\"outlinewidth\":0,\"ticks\":\"\"}}],\"contour\":[{\"type\":\"contour\",\"colorbar\":{\"outlinewidth\":0,\"ticks\":\"\"},\"colorscale\":[[0.0,\"#0d0887\"],[0.1111111111111111,\"#46039f\"],[0.2222222222222222,\"#7201a8\"],[0.3333333333333333,\"#9c179e\"],[0.4444444444444444,\"#bd3786\"],[0.5555555555555556,\"#d8576b\"],[0.6666666666666666,\"#ed7953\"],[0.7777777777777778,\"#fb9f3a\"],[0.8888888888888888,\"#fdca26\"],[1.0,\"#f0f921\"]]}],\"surface\":[{\"type\":\"surface\",\"colorbar\":{\"outlinewidth\":0,\"ticks\":\"\"},\"colorscale\":[[0.0,\"#0d0887\"],[0.1111111111111111,\"#46039f\"],[0.2222222222222222,\"#7201a8\"],[0.3333333333333333,\"#9c179e\"],[0.4444444444444444,\"#bd3786\"],[0.5555555555555556,\"#d8576b\"],[0.6666666666666666,\"#ed7953\"],[0.7777777777777778,\"#fb9f3a\"],[0.8888888888888888,\"#fdca26\"],[1.0,\"#f0f921\"]]}],\"mesh3d\":[{\"type\":\"mesh3d\",\"colorbar\":{\"outlinewidth\":0,\"ticks\":\"\"}}],\"scatter\":[{\"fillpattern\":{\"fillmode\":\"overlay\",\"size\":10,\"solidity\":0.2},\"type\":\"scatter\"}],\"parcoords\":[{\"type\":\"parcoords\",\"line\":{\"colorbar\":{\"outlinewidth\":0,\"ticks\":\"\"}}}],\"scatterpolargl\":[{\"type\":\"scatterpolargl\",\"marker\":{\"colorbar\":{\"outlinewidth\":0,\"ticks\":\"\"}}}],\"bar\":[{\"error_x\":{\"color\":\"#2a3f5f\"},\"error_y\":{\"color\":\"#2a3f5f\"},\"marker\":{\"line\":{\"color\":\"#E5ECF6\",\"width\":0.5},\"pattern\":{\"fillmode\":\"overlay\",\"size\":10,\"solidity\":0.2}},\"type\":\"bar\"}],\"scattergeo\":[{\"type\":\"scattergeo\",\"marker\":{\"colorbar\":{\"outlinewidth\":0,\"ticks\":\"\"}}}],\"scatterpolar\":[{\"type\":\"scatterpolar\",\"marker\":{\"colorbar\":{\"outlinewidth\":0,\"ticks\":\"\"}}}],\"histogram\":[{\"marker\":{\"pattern\":{\"fillmode\":\"overlay\",\"size\":10,\"solidity\":0.2}},\"type\":\"histogram\"}],\"scattergl\":[{\"type\":\"scattergl\",\"marker\":{\"colorbar\":{\"outlinewidth\":0,\"ticks\":\"\"}}}],\"scatter3d\":[{\"type\":\"scatter3d\",\"line\":{\"colorbar\":{\"outlinewidth\":0,\"ticks\":\"\"}},\"marker\":{\"colorbar\":{\"outlinewidth\":0,\"ticks\":\"\"}}}],\"scattermapbox\":[{\"type\":\"scattermapbox\",\"marker\":{\"colorbar\":{\"outlinewidth\":0,\"ticks\":\"\"}}}],\"scatterternary\":[{\"type\":\"scatterternary\",\"marker\":{\"colorbar\":{\"outlinewidth\":0,\"ticks\":\"\"}}}],\"scattercarpet\":[{\"type\":\"scattercarpet\",\"marker\":{\"colorbar\":{\"outlinewidth\":0,\"ticks\":\"\"}}}],\"carpet\":[{\"aaxis\":{\"endlinecolor\":\"#2a3f5f\",\"gridcolor\":\"white\",\"linecolor\":\"white\",\"minorgridcolor\":\"white\",\"startlinecolor\":\"#2a3f5f\"},\"baxis\":{\"endlinecolor\":\"#2a3f5f\",\"gridcolor\":\"white\",\"linecolor\":\"white\",\"minorgridcolor\":\"white\",\"startlinecolor\":\"#2a3f5f\"},\"type\":\"carpet\"}],\"table\":[{\"cells\":{\"fill\":{\"color\":\"#EBF0F8\"},\"line\":{\"color\":\"white\"}},\"header\":{\"fill\":{\"color\":\"#C8D4E3\"},\"line\":{\"color\":\"white\"}},\"type\":\"table\"}],\"barpolar\":[{\"marker\":{\"line\":{\"color\":\"#E5ECF6\",\"width\":0.5},\"pattern\":{\"fillmode\":\"overlay\",\"size\":10,\"solidity\":0.2}},\"type\":\"barpolar\"}],\"pie\":[{\"automargin\":true,\"type\":\"pie\"}]},\"layout\":{\"autotypenumbers\":\"strict\",\"colorway\":[\"#636efa\",\"#EF553B\",\"#00cc96\",\"#ab63fa\",\"#FFA15A\",\"#19d3f3\",\"#FF6692\",\"#B6E880\",\"#FF97FF\",\"#FECB52\"],\"font\":{\"color\":\"#2a3f5f\"},\"hovermode\":\"closest\",\"hoverlabel\":{\"align\":\"left\"},\"paper_bgcolor\":\"white\",\"plot_bgcolor\":\"#E5ECF6\",\"polar\":{\"bgcolor\":\"#E5ECF6\",\"angularaxis\":{\"gridcolor\":\"white\",\"linecolor\":\"white\",\"ticks\":\"\"},\"radialaxis\":{\"gridcolor\":\"white\",\"linecolor\":\"white\",\"ticks\":\"\"}},\"ternary\":{\"bgcolor\":\"#E5ECF6\",\"aaxis\":{\"gridcolor\":\"white\",\"linecolor\":\"white\",\"ticks\":\"\"},\"baxis\":{\"gridcolor\":\"white\",\"linecolor\":\"white\",\"ticks\":\"\"},\"caxis\":{\"gridcolor\":\"white\",\"linecolor\":\"white\",\"ticks\":\"\"}},\"coloraxis\":{\"colorbar\":{\"outlinewidth\":0,\"ticks\":\"\"}},\"colorscale\":{\"sequential\":[[0.0,\"#0d0887\"],[0.1111111111111111,\"#46039f\"],[0.2222222222222222,\"#7201a8\"],[0.3333333333333333,\"#9c179e\"],[0.4444444444444444,\"#bd3786\"],[0.5555555555555556,\"#d8576b\"],[0.6666666666666666,\"#ed7953\"],[0.7777777777777778,\"#fb9f3a\"],[0.8888888888888888,\"#fdca26\"],[1.0,\"#f0f921\"]],\"sequentialminus\":[[0.0,\"#0d0887\"],[0.1111111111111111,\"#46039f\"],[0.2222222222222222,\"#7201a8\"],[0.3333333333333333,\"#9c179e\"],[0.4444444444444444,\"#bd3786\"],[0.5555555555555556,\"#d8576b\"],[0.6666666666666666,\"#ed7953\"],[0.7777777777777778,\"#fb9f3a\"],[0.8888888888888888,\"#fdca26\"],[1.0,\"#f0f921\"]],\"diverging\":[[0,\"#8e0152\"],[0.1,\"#c51b7d\"],[0.2,\"#de77ae\"],[0.3,\"#f1b6da\"],[0.4,\"#fde0ef\"],[0.5,\"#f7f7f7\"],[0.6,\"#e6f5d0\"],[0.7,\"#b8e186\"],[0.8,\"#7fbc41\"],[0.9,\"#4d9221\"],[1,\"#276419\"]]},\"xaxis\":{\"gridcolor\":\"white\",\"linecolor\":\"white\",\"ticks\":\"\",\"title\":{\"standoff\":15},\"zerolinecolor\":\"white\",\"automargin\":true,\"zerolinewidth\":2},\"yaxis\":{\"gridcolor\":\"white\",\"linecolor\":\"white\",\"ticks\":\"\",\"title\":{\"standoff\":15},\"zerolinecolor\":\"white\",\"automargin\":true,\"zerolinewidth\":2},\"scene\":{\"xaxis\":{\"backgroundcolor\":\"#E5ECF6\",\"gridcolor\":\"white\",\"linecolor\":\"white\",\"showbackground\":true,\"ticks\":\"\",\"zerolinecolor\":\"white\",\"gridwidth\":2},\"yaxis\":{\"backgroundcolor\":\"#E5ECF6\",\"gridcolor\":\"white\",\"linecolor\":\"white\",\"showbackground\":true,\"ticks\":\"\",\"zerolinecolor\":\"white\",\"gridwidth\":2},\"zaxis\":{\"backgroundcolor\":\"#E5ECF6\",\"gridcolor\":\"white\",\"linecolor\":\"white\",\"showbackground\":true,\"ticks\":\"\",\"zerolinecolor\":\"white\",\"gridwidth\":2}},\"shapedefaults\":{\"line\":{\"color\":\"#2a3f5f\"}},\"annotationdefaults\":{\"arrowcolor\":\"#2a3f5f\",\"arrowhead\":0,\"arrowwidth\":1},\"geo\":{\"bgcolor\":\"white\",\"landcolor\":\"#E5ECF6\",\"subunitcolor\":\"white\",\"showland\":true,\"showlakes\":true,\"lakecolor\":\"white\"},\"title\":{\"x\":0.05},\"mapbox\":{\"style\":\"light\"}}},\"xaxis\":{\"anchor\":\"y\",\"domain\":[0.0,1.0],\"title\":{\"text\":\"Fruits\"}},\"yaxis\":{\"anchor\":\"x\",\"domain\":[0.0,1.0],\"title\":{\"text\":\"Quantity\"}},\"legend\":{\"tracegroupgap\":0},\"title\":{\"text\":\"Fruit Quantity Bar Plot\"},\"barmode\":\"relative\"},                        {\"responsive\": true}                    ).then(function(){\n",
              "                            \n",
              "var gd = document.getElementById('d4c75d14-5b34-4269-aa24-24a6cbb5cd3d');\n",
              "var x = new MutationObserver(function (mutations, observer) {{\n",
              "        var display = window.getComputedStyle(gd).display;\n",
              "        if (!display || display === 'none') {{\n",
              "            console.log([gd, 'removed!']);\n",
              "            Plotly.purge(gd);\n",
              "            observer.disconnect();\n",
              "        }}\n",
              "}});\n",
              "\n",
              "// Listen for the removal of the full notebook cells\n",
              "var notebookContainer = gd.closest('#notebook-container');\n",
              "if (notebookContainer) {{\n",
              "    x.observe(notebookContainer, {childList: true});\n",
              "}}\n",
              "\n",
              "// Listen for the clearing of the current output cell\n",
              "var outputEl = gd.closest('.output');\n",
              "if (outputEl) {{\n",
              "    x.observe(outputEl, {childList: true});\n",
              "}}\n",
              "\n",
              "                        })                };                            </script>        </div>\n",
              "</body>\n",
              "</html>"
            ]
          },
          "metadata": {}
        }
      ]
    },
    {
      "cell_type": "code",
      "source": [
        "#6. Create a DataFrame and add a new column based on an existing column?\n",
        "import pandas as pd\n",
        "\n",
        "# Step 1: Create a sample DataFrame\n",
        "data = {\n",
        "    'Name': ['Alice', 'Bob', 'Charlie'],\n",
        "    'Age': [25, 30, 35]\n",
        "}\n",
        "\n",
        "df = pd.DataFrame(data)\n",
        "\n",
        "# Step 2: Add a new column based on 'Age'\n",
        "# For example: double the age\n",
        "df['Age_Double'] = df['Age'] * 2\n",
        "\n",
        "# Print the updated DataFrame\n",
        "print(df)\n"
      ],
      "metadata": {
        "colab": {
          "base_uri": "https://localhost:8080/"
        },
        "id": "9tZbPGfKC4sj",
        "outputId": "1df3ce74-4a07-4da7-be63-4cd9a2213517"
      },
      "execution_count": 6,
      "outputs": [
        {
          "output_type": "stream",
          "name": "stdout",
          "text": [
            "      Name  Age  Age_Double\n",
            "0    Alice   25          50\n",
            "1      Bob   30          60\n",
            "2  Charlie   35          70\n"
          ]
        }
      ]
    },
    {
      "cell_type": "code",
      "source": [
        "# 7.Write a program to perform element-wise multiplication of two NumPy arrays?\n",
        "import numpy as np\n",
        "\n",
        "# Define two NumPy arrays\n",
        "a = np.array([1, 2, 3, 4])\n",
        "b = np.array([10, 20, 30, 40])\n",
        "\n",
        "# Perform element-wise multiplication\n",
        "result = a * b\n",
        "\n",
        "# Print the result\n",
        "print(\"Element-wise multiplication:\", result)\n"
      ],
      "metadata": {
        "colab": {
          "base_uri": "https://localhost:8080/"
        },
        "id": "UeLjW5PUDIQH",
        "outputId": "58a7dc97-ecd4-4de0-dbd9-5b3f68dd7e9b"
      },
      "execution_count": 7,
      "outputs": [
        {
          "output_type": "stream",
          "name": "stdout",
          "text": [
            "Element-wise multiplication: [ 10  40  90 160]\n"
          ]
        }
      ]
    },
    {
      "cell_type": "code",
      "source": [
        "#8. Create a line plot with multiple lines using Matplotlib?\n",
        "import matplotlib.pyplot as plt\n",
        "\n",
        "# Sample data\n",
        "x = [1, 2, 3, 4, 5]\n",
        "y1 = [2, 3, 5, 7, 11]\n",
        "y2 = [1, 4, 6, 8, 10]\n",
        "\n",
        "# Create line plots\n",
        "plt.plot(x, y1, label='Line 1', color='blue', marker='o')\n",
        "plt.plot(x, y2, label='Line 2', color='green', marker='s')\n",
        "\n",
        "# Add labels, title, and legend\n",
        "plt.xlabel('X Axis')\n",
        "plt.ylabel('Y Axis')\n",
        "plt.title('Line Plot with Multiple Lines')\n",
        "plt.legend()\n",
        "\n",
        "# Show the plot\n",
        "plt.show()\n"
      ],
      "metadata": {
        "colab": {
          "base_uri": "https://localhost:8080/",
          "height": 472
        },
        "id": "KNDgfceyDSDs",
        "outputId": "b56289d0-dd4e-46c2-99de-5102d909f705"
      },
      "execution_count": 8,
      "outputs": [
        {
          "output_type": "display_data",
          "data": {
            "text/plain": [
              "<Figure size 640x480 with 1 Axes>"
            ],
            "image/png": "[encoded data removed]"
          },
          "metadata": {}
        }
      ]
    },
    {
      "cell_type": "code",
      "source": [
        "#9 .Generate a Pandas DataFrame and filter rows where a column value is greater than a threshold?\n",
        "import pandas as pd\n",
        "\n",
        "# Step 1: Create a sample DataFrame\n",
        "data = {\n",
        "    'Name': ['Alice', 'Bob', 'Charlie', 'David'],\n",
        "    'Score': [85, 92, 78, 88]\n",
        "}\n",
        "\n",
        "df = pd.DataFrame(data)\n",
        "\n",
        "# Step 2: Filter rows where 'Score' is greater than 80\n",
        "filtered_df = df[df['Score'] > 80]\n",
        "\n",
        "# Print the filtered DataFrame\n",
        "print(filtered_df)\n"
      ],
      "metadata": {
        "colab": {
          "base_uri": "https://localhost:8080/"
        },
        "id": "HmqPJc3mDvw0",
        "outputId": "67774a7c-2177-416b-8fa0-a6d2b9f3752a"
      },
      "execution_count": 9,
      "outputs": [
        {
          "output_type": "stream",
          "name": "stdout",
          "text": [
            "    Name  Score\n",
            "0  Alice     85\n",
            "1    Bob     92\n",
            "3  David     88\n"
          ]
        }
      ]
    },
    {
      "cell_type": "code",
      "source": [
        "# 10.Create a histogram using Seaborn to visualize a distribution?\n",
        "import seaborn as sns\n",
        "import matplotlib.pyplot as plt\n",
        "import pandas as pd\n",
        "\n",
        "# Sample data\n",
        "data = {\n",
        "    'Scores': [45, 56, 67, 45, 89, 90, 67, 78, 89, 91, 62, 55, 75, 82, 88]\n",
        "}\n",
        "\n",
        "df = pd.DataFrame(data)\n",
        "\n",
        "# Create histogram\n",
        "sns.histplot(df['Scores'], bins=8, kde=True, color='skyblue')\n",
        "\n",
        "# Add labels and title\n",
        "plt.title('Score Distribution')\n",
        "plt.xlabel('Scores')\n",
        "plt.ylabel('Frequency')\n",
        "\n",
        "# Show plot\n",
        "plt.show()\n"
      ],
      "metadata": {
        "colab": {
          "base_uri": "https://localhost:8080/",
          "height": 472
        },
        "id": "sq9xkl5PD_vi",
        "outputId": "e6449e97-ac6c-427e-beaf-a4de0250c8d9"
      },
      "execution_count": 10,
      "outputs": [
        {
          "output_type": "display_data",
          "data": {
            "text/plain": [
              "<Figure size 640x480 with 1 Axes>"
            ],
            "image/png": "[encoded data removed]"
          },
          "metadata": {}
        }
      ]
    },
    {
      "cell_type": "code",
      "source": [
        "# 11.  Perform matrix multiplication using NumPy?\n",
        "import numpy as np\n",
        "\n",
        "# Define two matrices\n",
        "A = np.array([[1, 2], [3, 4]])\n",
        "B = np.array([[5, 6], [7, 8]])\n",
        "\n",
        "# Perform matrix multiplication using np.dot()\n",
        "result = np.dot(A, B)\n",
        "\n",
        "# Alternatively, you can use the @ operator\n",
        "# result = A @ B\n",
        "\n",
        "# Print the result\n",
        "print(\"Matrix multiplication result:\\n\", result)\n"
      ],
      "metadata": {
        "colab": {
          "base_uri": "https://localhost:8080/"
        },
        "id": "Qct22WMkEQVD",
        "outputId": "42a1a2fe-92fc-461e-df5e-25942866e816"
      },
      "execution_count": 11,
      "outputs": [
        {
          "output_type": "stream",
          "name": "stdout",
          "text": [
            "Matrix multiplication result:\n",
            " [[19 22]\n",
            " [43 50]]\n"
          ]
        }
      ]
    },
    {
      "cell_type": "code",
      "source": [
        "# 12.A Use Pandas to load a CSV file and display its first 5 rows?\n",
        "import pandas as pd\n",
        "\n",
        "# Load the CSV file into a DataFrame\n",
        "df = pd.read_csv('/content/sample_data/california_housing_train.csv')  # Replace 'your_file.csv' with your file path\n",
        "\n",
        "# Display the first 5 rows\n",
        "print(df.head())\n"
      ],
      "metadata": {
        "colab": {
          "base_uri": "https://localhost:8080/"
        },
        "id": "6F13sYxzFUZM",
        "outputId": "3b6bf24f-34dc-4c7b-df6f-4b98a8be7145"
      },
      "execution_count": 16,
      "outputs": [
        {
          "output_type": "stream",
          "name": "stdout",
          "text": [
            "   longitude  latitude  housing_median_age  total_rooms  total_bedrooms  \\\n",
            "0    -114.31     34.19                15.0       5612.0          1283.0   \n",
            "1    -114.47     34.40                19.0       7650.0          1901.0   \n",
            "2    -114.56     33.69                17.0        720.0           174.0   \n",
            "3    -114.57     33.64                14.0       1501.0           337.0   \n",
            "4    -114.57     33.57                20.0       1454.0           326.0   \n",
            "\n",
            "   population  households  median_income  median_house_value  \n",
            "0      1015.0       472.0         1.4936             66900.0  \n",
            "1      1129.0       463.0         1.8200             80100.0  \n",
            "2       333.0       117.0         1.6509             85700.0  \n",
            "3       515.0       226.0         3.1917             73400.0  \n",
            "4       624.0       262.0         1.9250             65500.0  \n"
          ]
        }
      ]
    },
    {
      "cell_type": "code",
      "source": [
        "# 13.Create a 3D scatter plot using Plotly.?\n",
        "import plotly.express as px\n",
        "import pandas as pd\n",
        "\n",
        "# Sample data\n",
        "data = {\n",
        "    'X': [1, 2, 3, 4, 5],\n",
        "    'Y': [5, 4, 3, 2, 1],\n",
        "    'Z': [10, 20, 30, 40, 50]\n",
        "}\n",
        "\n",
        "df = pd.DataFrame(data)\n",
        "\n",
        "# Create 3D scatter plot\n",
        "fig = px.scatter_3d(df, x='X', y='Y', z='Z', title='3D Scatter Plot')\n",
        "\n",
        "# Show plot\n",
        "fig.show()\n",
        "\n"
      ],
      "metadata": {
        "colab": {
          "base_uri": "https://localhost:8080/",
          "height": 542
        },
        "id": "yk-UL3K-Fi-E",
        "outputId": "032ad1da-42df-4abe-d1f4-6e82c4f52c7e"
      },
      "execution_count": 18,
      "outputs": [
        {
          "output_type": "display_data",
          "data": {
            "text/html": [
              "<html>\n",
              "<head><meta charset=\"utf-8\" /></head>\n",
              "<body>\n",
              "    <div>            <script src=\"https://cdnjs.cloudflare.com/ajax/libs/mathjax/2.7.5/MathJax.js?config=TeX-AMS-MML_SVG\"></script><script type=\"text/javascript\">if (window.MathJax && window.MathJax.Hub && window.MathJax.Hub.Config) {window.MathJax.Hub.Config({SVG: {font: \"STIX-Web\"}});}</script>                <script type=\"text/javascript\">window.PlotlyConfig = {MathJaxConfig: 'local'};</script>\n",
              "        <script charset=\"utf-8\" src=\"https://cdn.plot.ly/plotly-2.35.2.min.js\"></script>                <div id=\"536f2e0b-27b3-4b10-8c7d-9ca68ec9e788\" class=\"plotly-graph-div\" style=\"height:525px; width:100%;\"></div>            <script type=\"text/javascript\">                                    window.PLOTLYENV=window.PLOTLYENV || {};                                    if (document.getElementById(\"536f2e0b-27b3-4b10-8c7d-9ca68ec9e788\")) {                    Plotly.newPlot(                        \"536f2e0b-27b3-4b10-8c7d-9ca68ec9e788\",                        [{\"hovertemplate\":\"X=%{x}\\u003cbr\\u003eY=%{y}\\u003cbr\\u003eZ=%{z}\\u003cextra\\u003e\\u003c\\u002fextra\\u003e\",\"legendgroup\":\"\",\"marker\":{\"color\":\"#636efa\",\"symbol\":\"circle\"},\"mode\":\"markers\",\"name\":\"\",\"scene\":\"scene\",\"showlegend\":false,\"x\":[1,2,3,4,5],\"y\":[5,4,3,2,1],\"z\":[10,20,30,40,50],\"type\":\"scatter3d\"}],                        {\"template\":{\"data\":{\"histogram2dcontour\":[{\"type\":\"histogram2dcontour\",\"colorbar\":{\"outlinewidth\":0,\"ticks\":\"\"},\"colorscale\":[[0.0,\"#0d0887\"],[0.1111111111111111,\"#46039f\"],[0.2222222222222222,\"#7201a8\"],[0.3333333333333333,\"#9c179e\"],[0.4444444444444444,\"#bd3786\"],[0.5555555555555556,\"#d8576b\"],[0.6666666666666666,\"#ed7953\"],[0.7777777777777778,\"#fb9f3a\"],[0.8888888888888888,\"#fdca26\"],[1.0,\"#f0f921\"]]}],\"choropleth\":[{\"type\":\"choropleth\",\"colorbar\":{\"outlinewidth\":0,\"ticks\":\"\"}}],\"histogram2d\":[{\"type\":\"histogram2d\",\"colorbar\":{\"outlinewidth\":0,\"ticks\":\"\"},\"colorscale\":[[0.0,\"#0d0887\"],[0.1111111111111111,\"#46039f\"],[0.2222222222222222,\"#7201a8\"],[0.3333333333333333,\"#9c179e\"],[0.4444444444444444,\"#bd3786\"],[0.5555555555555556,\"#d8576b\"],[0.6666666666666666,\"#ed7953\"],[0.7777777777777778,\"#fb9f3a\"],[0.8888888888888888,\"#fdca26\"],[1.0,\"#f0f921\"]]}],\"heatmap\":[{\"type\":\"heatmap\",\"colorbar\":{\"outlinewidth\":0,\"ticks\":\"\"},\"colorscale\":[[0.0,\"#0d0887\"],[0.1111111111111111,\"#46039f\"],[0.2222222222222222,\"#7201a8\"],[0.3333333333333333,\"#9c179e\"],[0.4444444444444444,\"#bd3786\"],[0.5555555555555556,\"#d8576b\"],[0.6666666666666666,\"#ed7953\"],[0.7777777777777778,\"#fb9f3a\"],[0.8888888888888888,\"#fdca26\"],[1.0,\"#f0f921\"]]}],\"heatmapgl\":[{\"type\":\"heatmapgl\",\"colorbar\":{\"outlinewidth\":0,\"ticks\":\"\"},\"colorscale\":[[0.0,\"#0d0887\"],[0.1111111111111111,\"#46039f\"],[0.2222222222222222,\"#7201a8\"],[0.3333333333333333,\"#9c179e\"],[0.4444444444444444,\"#bd3786\"],[0.5555555555555556,\"#d8576b\"],[0.6666666666666666,\"#ed7953\"],[0.7777777777777778,\"#fb9f3a\"],[0.8888888888888888,\"#fdca26\"],[1.0,\"#f0f921\"]]}],\"contourcarpet\":[{\"type\":\"contourcarpet\",\"colorbar\":{\"outlinewidth\":0,\"ticks\":\"\"}}],\"contour\":[{\"type\":\"contour\",\"colorbar\":{\"outlinewidth\":0,\"ticks\":\"\"},\"colorscale\":[[0.0,\"#0d0887\"],[0.1111111111111111,\"#46039f\"],[0.2222222222222222,\"#7201a8\"],[0.3333333333333333,\"#9c179e\"],[0.4444444444444444,\"#bd3786\"],[0.5555555555555556,\"#d8576b\"],[0.6666666666666666,\"#ed7953\"],[0.7777777777777778,\"#fb9f3a\"],[0.8888888888888888,\"#fdca26\"],[1.0,\"#f0f921\"]]}],\"surface\":[{\"type\":\"surface\",\"colorbar\":{\"outlinewidth\":0,\"ticks\":\"\"},\"colorscale\":[[0.0,\"#0d0887\"],[0.1111111111111111,\"#46039f\"],[0.2222222222222222,\"#7201a8\"],[0.3333333333333333,\"#9c179e\"],[0.4444444444444444,\"#bd3786\"],[0.5555555555555556,\"#d8576b\"],[0.6666666666666666,\"#ed7953\"],[0.7777777777777778,\"#fb9f3a\"],[0.8888888888888888,\"#fdca26\"],[1.0,\"#f0f921\"]]}],\"mesh3d\":[{\"type\":\"mesh3d\",\"colorbar\":{\"outlinewidth\":0,\"ticks\":\"\"}}],\"scatter\":[{\"fillpattern\":{\"fillmode\":\"overlay\",\"size\":10,\"solidity\":0.2},\"type\":\"scatter\"}],\"parcoords\":[{\"type\":\"parcoords\",\"line\":{\"colorbar\":{\"outlinewidth\":0,\"ticks\":\"\"}}}],\"scatterpolargl\":[{\"type\":\"scatterpolargl\",\"marker\":{\"colorbar\":{\"outlinewidth\":0,\"ticks\":\"\"}}}],\"bar\":[{\"error_x\":{\"color\":\"#2a3f5f\"},\"error_y\":{\"color\":\"#2a3f5f\"},\"marker\":{\"line\":{\"color\":\"#E5ECF6\",\"width\":0.5},\"pattern\":{\"fillmode\":\"overlay\",\"size\":10,\"solidity\":0.2}},\"type\":\"bar\"}],\"scattergeo\":[{\"type\":\"scattergeo\",\"marker\":{\"colorbar\":{\"outlinewidth\":0,\"ticks\":\"\"}}}],\"scatterpolar\":[{\"type\":\"scatterpolar\",\"marker\":{\"colorbar\":{\"outlinewidth\":0,\"ticks\":\"\"}}}],\"histogram\":[{\"marker\":{\"pattern\":{\"fillmode\":\"overlay\",\"size\":10,\"solidity\":0.2}},\"type\":\"histogram\"}],\"scattergl\":[{\"type\":\"scattergl\",\"marker\":{\"colorbar\":{\"outlinewidth\":0,\"ticks\":\"\"}}}],\"scatter3d\":[{\"type\":\"scatter3d\",\"line\":{\"colorbar\":{\"outlinewidth\":0,\"ticks\":\"\"}},\"marker\":{\"colorbar\":{\"outlinewidth\":0,\"ticks\":\"\"}}}],\"scattermapbox\":[{\"type\":\"scattermapbox\",\"marker\":{\"colorbar\":{\"outlinewidth\":0,\"ticks\":\"\"}}}],\"scatterternary\":[{\"type\":\"scatterternary\",\"marker\":{\"colorbar\":{\"outlinewidth\":0,\"ticks\":\"\"}}}],\"scattercarpet\":[{\"type\":\"scattercarpet\",\"marker\":{\"colorbar\":{\"outlinewidth\":0,\"ticks\":\"\"}}}],\"carpet\":[{\"aaxis\":{\"endlinecolor\":\"#2a3f5f\",\"gridcolor\":\"white\",\"linecolor\":\"white\",\"minorgridcolor\":\"white\",\"startlinecolor\":\"#2a3f5f\"},\"baxis\":{\"endlinecolor\":\"#2a3f5f\",\"gridcolor\":\"white\",\"linecolor\":\"white\",\"minorgridcolor\":\"white\",\"startlinecolor\":\"#2a3f5f\"},\"type\":\"carpet\"}],\"table\":[{\"cells\":{\"fill\":{\"color\":\"#EBF0F8\"},\"line\":{\"color\":\"white\"}},\"header\":{\"fill\":{\"color\":\"#C8D4E3\"},\"line\":{\"color\":\"white\"}},\"type\":\"table\"}],\"barpolar\":[{\"marker\":{\"line\":{\"color\":\"#E5ECF6\",\"width\":0.5},\"pattern\":{\"fillmode\":\"overlay\",\"size\":10,\"solidity\":0.2}},\"type\":\"barpolar\"}],\"pie\":[{\"automargin\":true,\"type\":\"pie\"}]},\"layout\":{\"autotypenumbers\":\"strict\",\"colorway\":[\"#636efa\",\"#EF553B\",\"#00cc96\",\"#ab63fa\",\"#FFA15A\",\"#19d3f3\",\"#FF6692\",\"#B6E880\",\"#FF97FF\",\"#FECB52\"],\"font\":{\"color\":\"#2a3f5f\"},\"hovermode\":\"closest\",\"hoverlabel\":{\"align\":\"left\"},\"paper_bgcolor\":\"white\",\"plot_bgcolor\":\"#E5ECF6\",\"polar\":{\"bgcolor\":\"#E5ECF6\",\"angularaxis\":{\"gridcolor\":\"white\",\"linecolor\":\"white\",\"ticks\":\"\"},\"radialaxis\":{\"gridcolor\":\"white\",\"linecolor\":\"white\",\"ticks\":\"\"}},\"ternary\":{\"bgcolor\":\"#E5ECF6\",\"aaxis\":{\"gridcolor\":\"white\",\"linecolor\":\"white\",\"ticks\":\"\"},\"baxis\":{\"gridcolor\":\"white\",\"linecolor\":\"white\",\"ticks\":\"\"},\"caxis\":{\"gridcolor\":\"white\",\"linecolor\":\"white\",\"ticks\":\"\"}},\"coloraxis\":{\"colorbar\":{\"outlinewidth\":0,\"ticks\":\"\"}},\"colorscale\":{\"sequential\":[[0.0,\"#0d0887\"],[0.1111111111111111,\"#46039f\"],[0.2222222222222222,\"#7201a8\"],[0.3333333333333333,\"#9c179e\"],[0.4444444444444444,\"#bd3786\"],[0.5555555555555556,\"#d8576b\"],[0.6666666666666666,\"#ed7953\"],[0.7777777777777778,\"#fb9f3a\"],[0.8888888888888888,\"#fdca26\"],[1.0,\"#f0f921\"]],\"sequentialminus\":[[0.0,\"#0d0887\"],[0.1111111111111111,\"#46039f\"],[0.2222222222222222,\"#7201a8\"],[0.3333333333333333,\"#9c179e\"],[0.4444444444444444,\"#bd3786\"],[0.5555555555555556,\"#d8576b\"],[0.6666666666666666,\"#ed7953\"],[0.7777777777777778,\"#fb9f3a\"],[0.8888888888888888,\"#fdca26\"],[1.0,\"#f0f921\"]],\"diverging\":[[0,\"#8e0152\"],[0.1,\"#c51b7d\"],[0.2,\"#de77ae\"],[0.3,\"#f1b6da\"],[0.4,\"#fde0ef\"],[0.5,\"#f7f7f7\"],[0.6,\"#e6f5d0\"],[0.7,\"#b8e186\"],[0.8,\"#7fbc41\"],[0.9,\"#4d9221\"],[1,\"#276419\"]]},\"xaxis\":{\"gridcolor\":\"white\",\"linecolor\":\"white\",\"ticks\":\"\",\"title\":{\"standoff\":15},\"zerolinecolor\":\"white\",\"automargin\":true,\"zerolinewidth\":2},\"yaxis\":{\"gridcolor\":\"white\",\"linecolor\":\"white\",\"ticks\":\"\",\"title\":{\"standoff\":15},\"zerolinecolor\":\"white\",\"automargin\":true,\"zerolinewidth\":2},\"scene\":{\"xaxis\":{\"backgroundcolor\":\"#E5ECF6\",\"gridcolor\":\"white\",\"linecolor\":\"white\",\"showbackground\":true,\"ticks\":\"\",\"zerolinecolor\":\"white\",\"gridwidth\":2},\"yaxis\":{\"backgroundcolor\":\"#E5ECF6\",\"gridcolor\":\"white\",\"linecolor\":\"white\",\"showbackground\":true,\"ticks\":\"\",\"zerolinecolor\":\"white\",\"gridwidth\":2},\"zaxis\":{\"backgroundcolor\":\"#E5ECF6\",\"gridcolor\":\"white\",\"linecolor\":\"white\",\"showbackground\":true,\"ticks\":\"\",\"zerolinecolor\":\"white\",\"gridwidth\":2}},\"shapedefaults\":{\"line\":{\"color\":\"#2a3f5f\"}},\"annotationdefaults\":{\"arrowcolor\":\"#2a3f5f\",\"arrowhead\":0,\"arrowwidth\":1},\"geo\":{\"bgcolor\":\"white\",\"landcolor\":\"#E5ECF6\",\"subunitcolor\":\"white\",\"showland\":true,\"showlakes\":true,\"lakecolor\":\"white\"},\"title\":{\"x\":0.05},\"mapbox\":{\"style\":\"light\"}}},\"scene\":{\"domain\":{\"x\":[0.0,1.0],\"y\":[0.0,1.0]},\"xaxis\":{\"title\":{\"text\":\"X\"}},\"yaxis\":{\"title\":{\"text\":\"Y\"}},\"zaxis\":{\"title\":{\"text\":\"Z\"}}},\"legend\":{\"tracegroupgap\":0},\"title\":{\"text\":\"3D Scatter Plot\"}},                        {\"responsive\": true}                    ).then(function(){\n",
              "                            \n",
              "var gd = document.getElementById('536f2e0b-27b3-4b10-8c7d-9ca68ec9e788');\n",
              "var x = new MutationObserver(function (mutations, observer) {{\n",
              "        var display = window.getComputedStyle(gd).display;\n",
              "        if (!display || display === 'none') {{\n",
              "            console.log([gd, 'removed!']);\n",
              "            Plotly.purge(gd);\n",
              "            observer.disconnect();\n",
              "        }}\n",
              "}});\n",
              "\n",
              "// Listen for the removal of the full notebook cells\n",
              "var notebookContainer = gd.closest('#notebook-container');\n",
              "if (notebookContainer) {{\n",
              "    x.observe(notebookContainer, {childList: true});\n",
              "}}\n",
              "\n",
              "// Listen for the clearing of the current output cell\n",
              "var outputEl = gd.closest('.output');\n",
              "if (outputEl) {{\n",
              "    x.observe(outputEl, {childList: true});\n",
              "}}\n",
              "\n",
              "                        })                };                            </script>        </div>\n",
              "</body>\n",
              "</html>"
            ]
          },
          "metadata": {}
        }
      ]
    },
    {
      "cell_type": "markdown",
      "source": [],
      "metadata": {
        "id": "8fQ2ZaeL605J"
      }
    }
  ]
}